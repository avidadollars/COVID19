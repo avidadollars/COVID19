{
 "cells": [
  {
   "cell_type": "markdown",
   "metadata": {
    "colab_type": "text",
    "id": "pa49bUnKyRgF"
   },
   "source": [
    "# COVID-19 negative binomial deaths model"
   ]
  },
  {
   "cell_type": "markdown",
   "metadata": {
    "colab_type": "text",
    "id": "GU8C5qm_4vZb"
   },
   "source": [
    "This notebook fits a model using Novel Coronavirus (COVID-19) cases and deaths data by country, provided by JHU CSSE at https://github.com/CSSEGISandData/COVID-19\n",
    "\n",
    "We begin by estimating the new deaths at each future date $t$ based on new cases declared on each previous date:\n",
    "\n",
    "$$\n",
    "\\operatorname{E} \\bigl[  {nd}_t  \\bigr] = \\sum_{i=1}^t {nc}_i  \\left( 1-s \\right)  Pr\\bigl[ \\text{ dies  at }  t \\text{ } \\mid \\text{ } {nc}_i \\bigr ]\n",
    "$$\n",
    "\n",
    "where:\n",
    "\n",
    "&emsp; ${s}$ = probability of survival for a new case \n",
    "\n",
    "&emsp; ${nd}_t$ = new deaths on date $t$\n",
    "\n",
    "&emsp; ${nc}_t$ = new cases on date $t$\n",
    "\n",
    "The negative binomial distribution is useful to model this conditional probability. We assume that the lag between a positive test result (i.e. creating a new case) and death due to COVID-19 follows a negative binomial distribution with parameters $n$ and $p$. This can be interpreted as the probability there will be $t$ failures until the $n$-th success for $t+n$ independent and identically distributed trials, each with probability of success $p$.\n",
    "\n",
    "We start by combining cases and deaths data from the Johns Hopkins data for a selected country."
   ]
  },
  {
   "cell_type": "code",
   "execution_count": 55,
   "metadata": {},
   "outputs": [],
   "source": [
    "import pandas as pd\n",
    "import numpy as np\n",
    "#country='Spain'\n",
    "#country='Italy'\n",
    "#country='United Kingdom'\n",
    "#country='France'\n",
    "#country='Switzerland'\n",
    "#country='US'\n",
    "#country='China'\n",
    "country='US'"
   ]
  },
  {
   "cell_type": "code",
   "execution_count": 56,
   "metadata": {},
   "outputs": [],
   "source": [
    "#confirmed cases in time_series_covid19_confirmed_global.csv\n",
    "url_c = 'https://raw.githubusercontent.com/CSSEGISandData/COVID-19/master/csse_covid_19_data/csse_covid_19_time_series/time_series_covid19_confirmed_global.csv'\n",
    "file_c = 'C:/Users/Mark/Documents/Python/code/time_series_covid19_confirmed_global.csv'\n",
    "read_c = url_c #url_c or local file_c if saved already\n",
    "df_c = pd.read_csv(read_c)   #global confirmed cases\n",
    "df_c['Province/State'] = df_c['Province/State'].fillna('ALL')\n",
    "df_cc = df_c.loc[(df_c['Country/Region']==country) & (df_c['Province/State']=='ALL')]\n",
    "df_cc = df_cc.T; df_cc.columns=['cases']\n",
    "df_cc = df_cc.iloc[4:]\n",
    "df_cc.index = pd.to_datetime(df_cc.index)"
   ]
  },
  {
   "cell_type": "code",
   "execution_count": 57,
   "metadata": {},
   "outputs": [],
   "source": [
    "#deaths in time_series_covid19_deaths_global.csv\n",
    "url_d = 'https://raw.githubusercontent.com/CSSEGISandData/COVID-19/master/csse_covid_19_data/csse_covid_19_time_series/time_series_covid19_deaths_global.csv'\n",
    "file_d = 'C:/Users/Mark/Documents/Python/code/time_series_covid19_deaths_global.csv'\n",
    "read_d = url_d #url_d or local file_d if saved already\n",
    "df_d = pd.read_csv(read_d)   #global confirmed cases\n",
    "df_d['Province/State'] = df_d['Province/State'].fillna('ALL')\n",
    "df_dc = df_d.loc[(df_d['Country/Region']==country) & (df_d['Province/State']=='ALL')]\n",
    "df_dc = df_dc.T; df_dc.columns=['deaths']\n",
    "df_dc = df_dc.iloc[4:]\n",
    "df_dc.index = pd.to_datetime(df_dc.index)\n",
    "#print(df_dc)"
   ]
  },
  {
   "cell_type": "code",
   "execution_count": 58,
   "metadata": {},
   "outputs": [],
   "source": [
    "df = pd.concat([df_cc,df_dc], axis=1, sort=False)\n",
    "df['country'] = country\n",
    "df = df[['country','cases','deaths']]"
   ]
  },
  {
   "cell_type": "markdown",
   "metadata": {},
   "source": [
    "The 5 most recent days published are:"
   ]
  },
  {
   "cell_type": "code",
   "execution_count": 59,
   "metadata": {},
   "outputs": [
    {
     "name": "stdout",
     "output_type": "stream",
     "text": [
      "           country   cases deaths\n",
      "2020-04-09      US  461437  16478\n",
      "2020-04-10      US  496535  18586\n",
      "2020-04-11      US  526396  20463\n",
      "2020-04-12      US  555313  22020\n",
      "2020-04-13      US  580619  23529\n"
     ]
    }
   ],
   "source": [
    "print(df.tail(5))"
   ]
  },
  {
   "cell_type": "markdown",
   "metadata": {},
   "source": [
    "We calculate the rate of new cases"
   ]
  },
  {
   "cell_type": "code",
   "execution_count": 60,
   "metadata": {},
   "outputs": [],
   "source": [
    "df['new_deaths'] = df['deaths']-df['deaths'].shift(1)\n",
    "df['new_cases'] = df['cases']-df['cases'].shift(1)\n",
    "df.at[df.index[0],'new_deaths']=df.loc[df.index[0],'deaths']\n",
    "df.at[df.index[0],'new_cases']=df.loc[df.index[0],'cases']\n",
    "df['new_cases_rate'] = df['new_cases'] / (0.5*df['cases'].shift(1)+0.5*df['cases']+1e-10)\n",
    "df.at[df.index[0],'new_cases_rate']=0.0"
   ]
  },
  {
   "cell_type": "code",
   "execution_count": 61,
   "metadata": {},
   "outputs": [
    {
     "data": {
      "text/html": [
       "<div>\n",
       "<style scoped>\n",
       "    .dataframe tbody tr th:only-of-type {\n",
       "        vertical-align: middle;\n",
       "    }\n",
       "\n",
       "    .dataframe tbody tr th {\n",
       "        vertical-align: top;\n",
       "    }\n",
       "\n",
       "    .dataframe thead th {\n",
       "        text-align: right;\n",
       "    }\n",
       "</style>\n",
       "<table border=\"1\" class=\"dataframe\">\n",
       "  <thead>\n",
       "    <tr style=\"text-align: right;\">\n",
       "      <th></th>\n",
       "      <th>country</th>\n",
       "      <th>cases</th>\n",
       "      <th>deaths</th>\n",
       "      <th>new_deaths</th>\n",
       "      <th>new_cases</th>\n",
       "      <th>new_cases_rate</th>\n",
       "    </tr>\n",
       "  </thead>\n",
       "  <tbody>\n",
       "    <tr>\n",
       "      <td>2020-04-09</td>\n",
       "      <td>US</td>\n",
       "      <td>461437</td>\n",
       "      <td>16478</td>\n",
       "      <td>1783</td>\n",
       "      <td>32385</td>\n",
       "      <td>0.0727353</td>\n",
       "    </tr>\n",
       "    <tr>\n",
       "      <td>2020-04-10</td>\n",
       "      <td>US</td>\n",
       "      <td>496535</td>\n",
       "      <td>18586</td>\n",
       "      <td>2108</td>\n",
       "      <td>35098</td>\n",
       "      <td>0.0732756</td>\n",
       "    </tr>\n",
       "    <tr>\n",
       "      <td>2020-04-11</td>\n",
       "      <td>US</td>\n",
       "      <td>526396</td>\n",
       "      <td>20463</td>\n",
       "      <td>1877</td>\n",
       "      <td>29861</td>\n",
       "      <td>0.0583832</td>\n",
       "    </tr>\n",
       "    <tr>\n",
       "      <td>2020-04-12</td>\n",
       "      <td>US</td>\n",
       "      <td>555313</td>\n",
       "      <td>22020</td>\n",
       "      <td>1557</td>\n",
       "      <td>28917</td>\n",
       "      <td>0.0534654</td>\n",
       "    </tr>\n",
       "    <tr>\n",
       "      <td>2020-04-13</td>\n",
       "      <td>US</td>\n",
       "      <td>580619</td>\n",
       "      <td>23529</td>\n",
       "      <td>1509</td>\n",
       "      <td>25306</td>\n",
       "      <td>0.0445555</td>\n",
       "    </tr>\n",
       "  </tbody>\n",
       "</table>\n",
       "</div>"
      ],
      "text/plain": [
       "           country   cases deaths new_deaths new_cases new_cases_rate\n",
       "2020-04-09      US  461437  16478       1783     32385      0.0727353\n",
       "2020-04-10      US  496535  18586       2108     35098      0.0732756\n",
       "2020-04-11      US  526396  20463       1877     29861      0.0583832\n",
       "2020-04-12      US  555313  22020       1557     28917      0.0534654\n",
       "2020-04-13      US  580619  23529       1509     25306      0.0445555"
      ]
     },
     "execution_count": 61,
     "metadata": {},
     "output_type": "execute_result"
    }
   ],
   "source": [
    "df.tail(5)"
   ]
  },
  {
   "cell_type": "markdown",
   "metadata": {},
   "source": [
    "We can see the downward trend we are hoping for as measures like the lockdown take effect. "
   ]
  },
  {
   "cell_type": "code",
   "execution_count": 62,
   "metadata": {},
   "outputs": [
    {
     "data": {
      "text/plain": [
       "<matplotlib.axes._subplots.AxesSubplot at 0x1e954bac808>"
      ]
     },
     "execution_count": 62,
     "metadata": {},
     "output_type": "execute_result"
    },
    {
     "data": {
      "image/png": "[encoded data removed]",
      "text/plain": [
       "<Figure size 432x288 with 1 Axes>"
      ]
     },
     "metadata": {
      "needs_background": "light"
     },
     "output_type": "display_data"
    }
   ],
   "source": [
    "df['new_cases_rate'].plot( ylim=(0,0.5))"
   ]
  },
  {
   "cell_type": "markdown",
   "metadata": {},
   "source": [
    "This is very noisy data! For now we assume no new cases and project deaths resulting from existing cases only. Even this is a challenge, although the negative binomial model does help.\n",
    "\n",
    "The cases and deaths data each have their own pros and cons:\n",
    "* *Cases data* leads deaths data, but it has a high margin of error due to false positives and negatives and limited coverage of the population at risk; while\n",
    "* *Deaths data* lags cases data, but it has a low margin of error. The sources of 'error' in modeling terms are misclassification of cause of death and deaths ascribed to COVID-19 but not previously tested.   \n",
    "\n",
    "By modeling the combinations of cases and deaths we hope to eliminate some of both of these sources of noise and get a better read on the underlying trend of new infections.\n",
    "\n",
    "We assume that a new case has a daily probability $s$ of survival given tests positive for COVID-19 and a negative binomial distribution for the time to death if the new case does not survive. The  mean time until death is $\\frac{n(1-p)}{p}$ for negative binomial parameters $n$ and $p$. The three parameters $s$,$p$ amd $n$ are fitted from each country's experience using least squares.\n",
    "\n",
    "To do this, we import our COVID19 module fit and projection functions to apply to our DataFrame **df** of experience. "
   ]
  },
  {
   "cell_type": "code",
   "execution_count": 63,
   "metadata": {},
   "outputs": [],
   "source": [
    "#import our COVID19 module to access fit and projection functions to apply to our Data\n",
    "from COVID19 import fit_err, fit_model, projection_df\n",
    "#import functions for negative binomial model from scipy module\n",
    "from scipy.stats import nbinom"
   ]
  },
  {
   "cell_type": "markdown",
   "metadata": {},
   "source": [
    "We fit the model at each date and report the results, looking for trends in survival rates and $ E \\left [ \\text{days to death} | \\text{new infection} \\right ] $"
   ]
  },
  {
   "cell_type": "code",
   "execution_count": 64,
   "metadata": {},
   "outputs": [
    {
     "name": "stdout",
     "output_type": "stream",
     "text": [
      "2020-02-21 parameters= [0.99       0.1        7.11035837] , 64.0 days to death, 0.0 error\n",
      "2020-02-22 parameters= [0.99       0.1        7.11035837] , 64.0 days to death, 0.0 error\n",
      "2020-02-23 parameters= [0.99       0.1        7.11035837] , 64.0 days to death, 0.0 error\n",
      "2020-02-24 parameters= [0.99       0.1        7.11035837] , 64.0 days to death, 0.0 error\n",
      "2020-02-25 parameters= [0.99       0.1        7.11035837] , 64.0 days to death, 0.0 error\n",
      "2020-02-26 parameters= [0.99       0.1        7.11035837] , 64.0 days to death, 0.0 error\n",
      "2020-02-27 parameters= [0.99       0.1        7.11035837] , 64.0 days to death, 0.0 error\n",
      "2020-02-28 parameters= [0.99       0.1        7.11035837] , 64.0 days to death, 0.0 error\n",
      "2020-02-29 parameters= [0.99       0.1        7.11035837] , 64.0 days to death, 0.0 error\n",
      "2020-03-01 parameters= [0.68882758 0.16111053 7.3291904 ] , 38.2 days to death, 1.0 error\n",
      "2020-03-02 parameters= [ 0.1         0.5785719  59.08947499] , 43.0 days to death, 1.0 error\n",
      "2020-03-03 parameters= [  0.1          0.74116352 100.        ] , 34.9 days to death, 22.0 error\n",
      "2020-03-04 parameters= [ 0.1         0.74207889 99.9999946 ] , 34.8 days to death, 22.0 error\n",
      "2020-03-05 parameters= [ 0.1         0.74411722 99.9998655 ] , 34.4 days to death, 34.0 error\n",
      "2020-03-06 parameters= [  0.1          0.74405687 100.        ] , 34.4 days to death, 35.0 error\n",
      "2020-03-07 parameters= [  0.1          0.74330001 100.        ] , 34.5 days to death, 37.0 error\n",
      "2020-03-08 parameters= [  0.1          0.74158773 100.        ] , 34.8 days to death, 43.0 error\n",
      "2020-03-09 parameters= [  0.1         0.7391031 100.       ] , 35.3 days to death, 56.0 error\n",
      "2020-03-10 parameters= [  0.1          0.73870015 100.        ] , 35.4 days to death, 56.0 error\n",
      "2020-03-11 parameters= [  0.1          0.73475068 100.        ] , 36.1 days to death, 87.0 error\n",
      "2020-03-12 parameters= [  0.1         0.7303989 100.       ] , 36.9 days to death, 144.0 error\n",
      "2020-03-13 parameters= [  0.1          0.72869786 100.        ] , 37.2 days to death, 157.0 error\n",
      "2020-03-14 parameters= [  0.1          0.72613973 100.        ] , 37.7 days to death, 200.0 error\n",
      "2020-03-15 parameters= [  0.1         0.7243543 100.       ] , 38.1 days to death, 243.0 error\n",
      "2020-03-16 parameters= [  0.1          0.72374418 100.        ] , 38.2 days to death, 316.0 error\n",
      "2020-03-17 parameters= [ 0.46057725  0.87353021 99.87927577] , 14.5 days to death, 100.0 error\n",
      "2020-03-18 parameters= [ 0.43335345  0.87093499 99.8776417 ] , 14.8 days to death, 102.0 error\n",
      "2020-03-19 parameters= [ 0.1         0.84497367 99.8535354 ] , 18.3 days to death, 356.0 error\n",
      "2020-03-20 parameters= [ 0.10571661  0.86250233 99.30775855] , 15.8 days to death, 1844.0 error\n",
      "2020-03-21 parameters= [ 0.54877498  0.87768259 99.50053618] , 13.9 days to death, 2276.0 error\n",
      "2020-03-22 parameters= [ 0.64768187  0.88273513 99.52530882] , 13.2 days to death, 2400.0 error\n",
      "2020-03-23 parameters= [ 0.86418833  0.88994482 72.89898567] , 9.0 days to death, 2517.0 error\n",
      "2020-03-24 parameters= [ 0.82734118  0.87944901 73.06727073] , 10.0 days to death, 2524.0 error\n",
      "2020-03-25 parameters= [ 0.37504097  0.84599948 85.93528593] , 15.6 days to death, 3222.0 error\n",
      "2020-03-26 parameters= [  0.46915498   0.87065923 100.        ] , 14.9 days to death, 3261.0 error\n",
      "2020-03-27 parameters= [ 0.1         0.85254245 99.99999749] , 17.3 days to death, 4328.0 error\n",
      "2020-03-28 parameters= [  0.1          0.85175666 100.        ] , 17.4 days to death, 4605.0 error\n",
      "2020-03-29 parameters= [  0.1          0.84964782 100.        ] , 17.7 days to death, 7951.0 error\n",
      "2020-03-30 parameters= [  0.1          0.84478779 100.        ] , 18.4 days to death, 34687.0 error\n",
      "2020-03-31 parameters= [  0.1          0.84011582 100.        ] , 19.0 days to death, 68744.0 error\n",
      "2020-04-01 parameters= [  0.1          0.84038732 100.        ] , 19.0 days to death, 68932.0 error\n",
      "2020-04-02 parameters= [ 0.10401131  0.83705028 99.99999995] , 19.5 days to death, 120918.0 error\n",
      "2020-04-03 parameters= [ 0.41858441  0.84773964 99.99899622] , 18.0 days to death, 144157.0 error\n",
      "2020-04-04 parameters= [ 0.85091347  0.89210913 99.99863906] , 12.1 days to death, 116550.0 error\n",
      "2020-04-05 parameters= [ 0.9181678   0.86397472 53.96741873] , 8.5 days to death, 67279.0 error\n",
      "2020-04-06 parameters= [ 0.93220367  0.9        66.10954991] , 7.3 days to death, 111827.0 error\n",
      "2020-04-07 parameters= [ 0.94191075  0.9        57.45719415] , 6.4 days to death, 190426.0 error\n",
      "2020-04-08 parameters= [ 0.93069641  0.9        68.03723316] , 7.6 days to death, 321919.0 error\n",
      "2020-04-09 parameters= [ 0.92474436  0.89248726 67.62076392] , 8.1 days to death, 351728.0 error\n",
      "2020-04-10 parameters= [ 0.92907471  0.89763734 67.4254317 ] , 7.7 days to death, 370716.0 error\n",
      "2020-04-11 parameters= [ 0.92637546  0.89367299 67.24533503] , 8.0 days to death, 381087.0 error\n",
      "2020-04-12 parameters= [ 0.93021006  0.9        67.72949971] , 7.5 days to death, 414744.0 error\n",
      "2020-04-13 parameters= [ 0.93600001  0.9        60.55377629] , 6.7 days to death, 609880.0 error\n"
     ]
    }
   ],
   "source": [
    "bounds_tuple = ((0.1,0.99),(0.1,0.9),(1.0,100.0))   #we use these bounds respectively for s, p, n \n",
    "max_iterations = 50\n",
    "init_params_tuple = (0.5,0.35,7.0)\n",
    "\n",
    "start_loc = 30 #pointless fitting 3 parameters to less than 30 data points\n",
    "end_loc = df.shape[0]\n",
    "\n",
    "for i in range(start_loc, end_loc):\n",
    "    fit_df = df.iloc[:i]\n",
    "    res=fit_model(initparams=init_params_tuple, hyperparams=fit_df, bounds=bounds_tuple, maxiter=max_iterations)\n",
    "    s,p,n=res[0]\n",
    "    mean = nbinom.mean(n, p) #n*p/(1-p)\n",
    "    print(df.index[i].strftime('%Y-%m-%d'),'parameters=',res[0],',',round(mean,1),'days to death,', round(res[1],0),'error')\n",
    "    init_params_tuple = res[0]\n",
    "    s,p,n = res[0]\n",
    "    df.at[df.index[i],'s']=s\n",
    "    df.at[df.index[i],'p']=p\n",
    "    df.at[df.index[i],'n']=n"
   ]
  },
  {
   "cell_type": "code",
   "execution_count": 65,
   "metadata": {},
   "outputs": [
    {
     "name": "stdout",
     "output_type": "stream",
     "text": [
      "the negative binomial model projected for 183 days accounts for 100.0 % of future deaths\n",
      "mean days to death for those who do not survive = 6.7 days\n",
      "\n",
      "1984 max deaths expected on 2020-04-14\n",
      "\n"
     ]
    },
    {
     "data": {
      "image/png": "[encoded data removed]",
      "text/plain": [
       "<Figure size 432x288 with 1 Axes>"
      ]
     },
     "metadata": {
      "needs_background": "light"
     },
     "output_type": "display_data"
    },
    {
     "data": {
      "image/png": "[encoded data removed]",
      "text/plain": [
       "<Figure size 432x288 with 1 Axes>"
      ]
     },
     "metadata": {
      "needs_background": "light"
     },
     "output_type": "display_data"
    }
   ],
   "source": [
    "#plot the projection for the model (fitted from lockdown), extending the df index 100 days into the future\n",
    "proj_df = projection_df(params=res[0], df=df, cases_growth_rate=0)\n",
    "\n",
    "proj_df['new_deaths'] = proj_df['new_deaths'].replace(0.0, np.nan) #don't plot zero values\n",
    "\n",
    "s,p,n = res[0]\n",
    "#mean = n*(1/p - 1) = n*(1-p)/p ##C:\\ProgramData\\Anaconda3\\Lib\\site-packages\\scipy\\stats\\_discrete_distns.py line 210\n",
    "mean = nbinom.mean(n, p) \n",
    "print('mean days to death for those who do not survive =',round(mean,1),'days')\n",
    "\n",
    "proj_df[['new_deaths','new_model_deaths']].iloc[30:-60].plot(title=country+' fitted model (no new cases), log scale for y-axis', logy=True)\n",
    "proj_df[['new_deaths','new_model_deaths']].iloc[30:-60].plot(title=country+' fitted model (no new cases)')\n",
    "\n",
    "loc_max = proj_df.loc[ proj_df['new_model_deaths'] == proj_df['new_model_deaths'].max()].index[0]\n",
    "print()\n",
    "print(int(round(proj_df['new_model_deaths'].max(),0)),'max deaths expected on',loc_max.strftime('%Y-%m-%d'))\n",
    "print()\n"
   ]
  },
  {
   "cell_type": "markdown",
   "metadata": {},
   "source": [
    "Our deaths projection may give a cleaner indication of the trend in infections. \n",
    "\n",
    "Here are the rates of new deaths for last 15 days:"
   ]
  },
  {
   "cell_type": "code",
   "execution_count": 66,
   "metadata": {},
   "outputs": [
    {
     "name": "stdout",
     "output_type": "stream",
     "text": [
      "           country   cases  deaths  new_deaths  new_cases  new_cases_rate  \\\n",
      "2020-03-30      US  161831    2978       511.0    20922.0        0.138218   \n",
      "2020-03-31      US  188172    3873       895.0    26341.0        0.150519   \n",
      "2020-04-01      US  213372    4757       884.0    25200.0        0.125516   \n",
      "2020-04-02      US  243762    5926      1169.0    30390.0        0.132959   \n",
      "2020-04-03      US  275586    7087      1161.0    31824.0        0.122554   \n",
      "2020-04-04      US  308853    8407      1320.0    33267.0        0.113843   \n",
      "2020-04-05      US  337072    9619      1212.0    28219.0        0.087375   \n",
      "2020-04-06      US  366667   10783      1164.0    29595.0        0.084108   \n",
      "2020-04-07      US  396223   12722      1939.0    29556.0        0.077484   \n",
      "2020-04-08      US  429052   14695      1973.0    32829.0        0.079559   \n",
      "2020-04-09      US  461437   16478      1783.0    32385.0        0.072735   \n",
      "2020-04-10      US  496535   18586      2108.0    35098.0        0.073276   \n",
      "2020-04-11      US  526396   20463      1877.0    29861.0        0.058383   \n",
      "2020-04-12      US  555313   22020      1557.0    28917.0        0.053465   \n",
      "2020-04-13      US  580619   23529      1509.0    25306.0        0.044555   \n",
      "\n",
      "                   s         p           n  new_model_deaths  \\\n",
      "2020-03-30  0.100000  0.844788  100.000000        680.505807   \n",
      "2020-03-31  0.100000  0.840116  100.000000        793.314797   \n",
      "2020-04-01  0.100000  0.840387  100.000000        907.966140   \n",
      "2020-04-02  0.104011  0.837050  100.000000       1021.946170   \n",
      "2020-04-03  0.418584  0.847740   99.998996       1135.836359   \n",
      "2020-04-04  0.850913  0.892109   99.998639       1252.323185   \n",
      "2020-04-05  0.918168  0.863975   53.967419       1373.246758   \n",
      "2020-04-06  0.932204  0.900000   66.109550       1496.185132   \n",
      "2020-04-07  0.941911  0.900000   57.457194       1613.481644   \n",
      "2020-04-08  0.930696  0.900000   68.037233       1715.487124   \n",
      "2020-04-09  0.924744  0.892487   67.620764       1795.958501   \n",
      "2020-04-10  0.929075  0.897637   67.425432       1855.514912   \n",
      "2020-04-11  0.926375  0.893673   67.245335       1900.342814   \n",
      "2020-04-12  0.930210  0.900000   67.729500       1936.992634   \n",
      "2020-04-13  0.936000  0.900000   60.553776       1967.162545   \n",
      "\n",
      "            new model deaths rate  \n",
      "2020-03-30               0.228511  \n",
      "2020-03-31               0.204832  \n",
      "2020-04-01               0.190869  \n",
      "2020-04-02               0.172451  \n",
      "2020-04-03               0.160270  \n",
      "2020-04-04               0.148962  \n",
      "2020-04-05               0.142764  \n",
      "2020-04-06               0.138754  \n",
      "2020-04-07               0.126826  \n",
      "2020-04-08               0.116740  \n",
      "2020-04-09               0.108991  \n",
      "2020-04-10               0.099834  \n",
      "2020-04-11               0.092867  \n",
      "2020-04-12               0.087965  \n",
      "2020-04-13               0.083606  \n"
     ]
    }
   ],
   "source": [
    "proj_df['new model deaths rate'] = proj_df['new_model_deaths']/proj_df['deaths']\n",
    "print(proj_df.tail(115).head(15))"
   ]
  },
  {
   "cell_type": "markdown",
   "metadata": {},
   "source": [
    "One idea would be to project future deaths straight from this smoothed trend and compare it against a projection of deaths resulting from assumed new cases."
   ]
  },
  {
   "cell_type": "code",
   "execution_count": null,
   "metadata": {},
   "outputs": [],
   "source": []
  }
 ],
 "metadata": {
  "accelerator": "GPU",
  "colab": {
   "collapsed_sections": [],
   "name": "time_series.ipynb",
   "private_outputs": true,
   "toc_visible": true
  },
  "kernelspec": {
   "display_name": "Python 3",
   "language": "python",
   "name": "python3"
  },
  "language_info": {
   "codemirror_mode": {
    "name": "ipython",
    "version": 3
   },
   "file_extension": ".py",
   "mimetype": "text/x-python",
   "name": "python",
   "nbconvert_exporter": "python",
   "pygments_lexer": "ipython3",
   "version": "3.7.4"
  }
 },
 "nbformat": 4,
 "nbformat_minor": 4
}
